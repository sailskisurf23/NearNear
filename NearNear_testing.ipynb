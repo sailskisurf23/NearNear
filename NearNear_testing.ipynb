{
 "cells": [
  {
   "cell_type": "code",
   "execution_count": 1,
   "metadata": {},
   "outputs": [],
   "source": [
    "import pandas as pd\n",
    "import numpy as np\n",
    "from sklearn.model_selection import train_test_split\n",
    "import matplotlib.pyplot as plt\n",
    "import src.NearNear_v3 as nn\n",
    "%load_ext autoreload\n",
    "%autoreload 2"
   ]
  },
  {
   "cell_type": "markdown",
   "metadata": {},
   "source": [
    "#### Test `compute_distances` function used in Model\n",
    " - Use toy dataset with items in SF and ATX (roughly)\n",
    " - Pop off a 1 row in Austin as a 'test case'\n",
    " - Expect distance matrix to include \n",
    "     - zeros for ATX-ATX and SF-SF \n",
    "     - ~1475mi for SF-ATX cases"
   ]
  },
  {
   "cell_type": "code",
   "execution_count": 2,
   "metadata": {},
   "outputs": [
    {
     "data": {
      "text/html": [
       "<div>\n",
       "<style>\n",
       "    .dataframe thead tr:only-child th {\n",
       "        text-align: right;\n",
       "    }\n",
       "\n",
       "    .dataframe thead th {\n",
       "        text-align: left;\n",
       "    }\n",
       "\n",
       "    .dataframe tbody tr th {\n",
       "        vertical-align: top;\n",
       "    }\n",
       "</style>\n",
       "<table border=\"1\" class=\"dataframe\">\n",
       "  <thead>\n",
       "    <tr style=\"text-align: right;\">\n",
       "      <th></th>\n",
       "      <th>property_latitude</th>\n",
       "      <th>property_longitude</th>\n",
       "      <th>property_imprating</th>\n",
       "      <th>sale_amount</th>\n",
       "    </tr>\n",
       "  </thead>\n",
       "  <tbody>\n",
       "    <tr>\n",
       "      <th>0</th>\n",
       "      <td>38</td>\n",
       "      <td>-122</td>\n",
       "      <td>A</td>\n",
       "      <td>10</td>\n",
       "    </tr>\n",
       "    <tr>\n",
       "      <th>1</th>\n",
       "      <td>38</td>\n",
       "      <td>-122</td>\n",
       "      <td>A</td>\n",
       "      <td>10</td>\n",
       "    </tr>\n",
       "    <tr>\n",
       "      <th>2</th>\n",
       "      <td>38</td>\n",
       "      <td>-122</td>\n",
       "      <td>A</td>\n",
       "      <td>10</td>\n",
       "    </tr>\n",
       "    <tr>\n",
       "      <th>3</th>\n",
       "      <td>38</td>\n",
       "      <td>-122</td>\n",
       "      <td>B</td>\n",
       "      <td>20</td>\n",
       "    </tr>\n",
       "    <tr>\n",
       "      <th>4</th>\n",
       "      <td>38</td>\n",
       "      <td>-122</td>\n",
       "      <td>B</td>\n",
       "      <td>20</td>\n",
       "    </tr>\n",
       "    <tr>\n",
       "      <th>5</th>\n",
       "      <td>38</td>\n",
       "      <td>-122</td>\n",
       "      <td>B</td>\n",
       "      <td>20</td>\n",
       "    </tr>\n",
       "    <tr>\n",
       "      <th>6</th>\n",
       "      <td>30</td>\n",
       "      <td>-98</td>\n",
       "      <td>C</td>\n",
       "      <td>40</td>\n",
       "    </tr>\n",
       "    <tr>\n",
       "      <th>7</th>\n",
       "      <td>30</td>\n",
       "      <td>-98</td>\n",
       "      <td>B</td>\n",
       "      <td>30</td>\n",
       "    </tr>\n",
       "    <tr>\n",
       "      <th>8</th>\n",
       "      <td>30</td>\n",
       "      <td>-98</td>\n",
       "      <td>C</td>\n",
       "      <td>30</td>\n",
       "    </tr>\n",
       "  </tbody>\n",
       "</table>\n",
       "</div>"
      ],
      "text/plain": [
       "   property_latitude  property_longitude property_imprating  sale_amount\n",
       "0                 38                -122                  A           10\n",
       "1                 38                -122                  A           10\n",
       "2                 38                -122                  A           10\n",
       "3                 38                -122                  B           20\n",
       "4                 38                -122                  B           20\n",
       "5                 38                -122                  B           20\n",
       "6                 30                 -98                  C           40\n",
       "7                 30                 -98                  B           30\n",
       "8                 30                 -98                  C           30"
      ]
     },
     "execution_count": 2,
     "metadata": {},
     "output_type": "execute_result"
    }
   ],
   "source": [
    "df = pd.read_csv('data/test_data.csv')\n",
    "df"
   ]
  },
  {
   "cell_type": "code",
   "execution_count": 3,
   "metadata": {},
   "outputs": [],
   "source": [
    "predictors = ['property_latitude','property_longitude','property_imprating']\n",
    "X_train = df.loc[:7,predictors]\n",
    "X_test = df.loc[8:,predictors]\n",
    "y_train = df.loc[:7,'sale_amount']\n",
    "y_test = df.loc[8:,'sale_amount']"
   ]
  },
  {
   "cell_type": "code",
   "execution_count": 4,
   "metadata": {},
   "outputs": [
    {
     "name": "stdout",
     "output_type": "stream",
     "text": [
      "Distance SF to ATX: 1477.0mi\n",
      "Distance ATX to ATX: 0.0mi\n"
     ]
    }
   ],
   "source": [
    "lat_train = X_train['property_latitude'].values\n",
    "lon_train = X_train['property_longitude'].values\n",
    "lat_test = X_test['property_latitude'].values\n",
    "lon_test = X_test['property_longitude'].values\n",
    "distances = nn.compute_distances(lat_train,lon_train,lat_test,lon_test)\n",
    "print('Distance SF to ATX: {}mi'.format(round(distances[0][0])))\n",
    "print('Distance ATX to ATX: {}mi'.format(round(distances[0][-1])))"
   ]
  },
  {
   "cell_type": "markdown",
   "metadata": {},
   "source": [
    "#### Test - model uses LatLong to establish comparables\n",
    " - Use toy dataset with items in SF and ATX (roughly)\n",
    " - Pop off a single row in Austin as a 'test case'\n",
    " - Expect model returns average value of remaining items in ATX (40+30 / 2 = 35)"
   ]
  },
  {
   "cell_type": "code",
   "execution_count": 5,
   "metadata": {},
   "outputs": [],
   "source": [
    "predictors = ['property_latitude','property_longitude','property_imprating']\n",
    "X_train = df.loc[:7,predictors]\n",
    "X_test = df.loc[8:,predictors]\n",
    "y_train = df.loc[:7,'sale_amount']\n",
    "y_test = df.loc[8:,'sale_amount']"
   ]
  },
  {
   "cell_type": "code",
   "execution_count": 6,
   "metadata": {},
   "outputs": [
    {
     "name": "stdout",
     "output_type": "stream",
     "text": [
      "Predicted value for our test case is: 35.0\n"
     ]
    }
   ],
   "source": [
    "nn_model = nn.NearNear(lat='property_latitude',\n",
    "                        lon='property_longitude')\n",
    "nn_model.fit(X_train,y_train)\n",
    "y_pred = nn_model.predict(X_test)\n",
    "print('Predicted value for our test case is: {}'.format(y_pred[0]))"
   ]
  },
  {
   "cell_type": "markdown",
   "metadata": {},
   "source": [
    "#### Test - model uses LatLong and `cat_comp` parameter to establish comparables\n",
    " - Use toy dataset with items in SF and ATX (roughly)\n",
    " - Pop of single ATX row with **C** for `property_imprating`\n",
    " - Expect model to use other ATX row with **C** for `property_imprating` and predict **40**"
   ]
  },
  {
   "cell_type": "code",
   "execution_count": 7,
   "metadata": {},
   "outputs": [],
   "source": [
    "predictors = ['property_latitude','property_longitude','property_imprating']\n",
    "X_train = df.loc[:7,predictors]\n",
    "X_test = df.loc[8:,predictors]\n",
    "y_train = df.loc[:7,'sale_amount']\n",
    "y_test = df.loc[8:,'sale_amount']"
   ]
  },
  {
   "cell_type": "code",
   "execution_count": 8,
   "metadata": {},
   "outputs": [
    {
     "name": "stdout",
     "output_type": "stream",
     "text": [
      "Predicted value for our test case is: 40.0\n"
     ]
    }
   ],
   "source": [
    "nn_model = nn.NearNear(lat='property_latitude',\n",
    "                        lon='property_longitude', comp_cat='property_imprating')\n",
    "nn_model.fit(X_train,y_train)\n",
    "y_pred = nn_model.predict(X_test)\n",
    "print('Predicted value for our test case is: {}'.format(y_pred[0]))"
   ]
  },
  {
   "cell_type": "code",
   "execution_count": null,
   "metadata": {},
   "outputs": [],
   "source": []
  }
 ],
 "metadata": {
  "kernelspec": {
   "display_name": "Python 3",
   "language": "python",
   "name": "python3"
  },
  "language_info": {
   "codemirror_mode": {
    "name": "ipython",
    "version": 3
   },
   "file_extension": ".py",
   "mimetype": "text/x-python",
   "name": "python",
   "nbconvert_exporter": "python",
   "pygments_lexer": "ipython3",
   "version": "3.6.1"
  }
 },
 "nbformat": 4,
 "nbformat_minor": 2
}
